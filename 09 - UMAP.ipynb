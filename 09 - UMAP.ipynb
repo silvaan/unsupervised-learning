{
 "cells": [
  {
   "cell_type": "markdown",
   "id": "90e61ef3",
   "metadata": {},
   "source": [
    "# Uniform Manifold Approximation and Projection (UMAP)\n",
    "\n",
    "UMAP é um algoritmo de redução de dimensionalidade e visualização de dados que se destaca na preservação tanto da estrutura local quanto da estrutura global dos dados. Baseado em fundamentos da geometria Riemanniana e topologia algébrica, o UMAP constrói uma representação topológica dos dados em alta dimensão e, em seguida, busca otimizar um embedding de baixa dimensão que seja o mais estruturalmente equivalente possível. Este notebook explora os conceitos fundamentais do UMAP e implementa uma versão simplificada do algoritmo para fins didáticos."
   ]
  },
  {
   "cell_type": "code",
   "execution_count": null,
   "id": "1249e471",
   "metadata": {},
   "outputs": [],
   "source": [
    "import numpy as np\n",
    "import matplotlib.pyplot as plt\n",
    "from sklearn.datasets import make_swiss_roll\n",
    "from sklearn.neighbors import NearestNeighbors\n",
    "\n",
    "# Configurações de plotagem\n",
    "plt.style.use('seaborn-v0_8-whitegrid')"
   ]
  },
  {
   "cell_type": "markdown",
   "id": "e77198c7",
   "metadata": {},
   "source": [
    "### Geração de Dados Sintéticos\n",
    "\n",
    "Para visualizar a eficácia do UMAP, utilizaremos um conjunto de dados sintético conhecido como \"Swiss Roll\". Este dataset é um exemplo clássico de um manifold não linear em três dimensões, onde os pontos seguem uma estrutura espiralada. O objetivo será \"desenrolar\" este manifold em um espaço bidimensional."
   ]
  },
  {
   "cell_type": "code",
   "execution_count": null,
   "id": "7198c4ef",
   "metadata": {},
   "outputs": [],
   "source": [
    "# Gerar o dataset Swiss Roll\n",
    "n_samples = 1500\n",
    "noise = 0.05\n",
    "X, color = make_swiss_roll(n_samples, noise=noise, random_state=42)\n",
    "\n",
    "# Normalizar os dados\n",
    "X = (X - np.min(X)) / (np.max(X) - np.min(X))"
   ]
  },
  {
   "cell_type": "markdown",
   "id": "656563e4",
   "metadata": {},
   "source": [
    "### Visualização do Manifold Original\n",
    "\n",
    "Abaixo, plotamos o dataset em seu espaço tridimensional original. As cores representam a posição intrínseca ao longo do manifold, o que nos ajudará a avaliar se a estrutura foi corretamente preservada após a redução de dimensionalidade."
   ]
  },
  {
   "cell_type": "code",
   "execution_count": null,
   "id": "715081ea",
   "metadata": {},
   "outputs": [],
   "source": [
    "# Plotar o Swiss Roll em 3D\n",
    "fig = plt.figure(figsize=(10, 8))\n",
    "ax = fig.add_subplot(111, projection='3d')\n",
    "ax.scatter(X[:, 0], X[:, 1], X[:, 2], c=color, cmap=plt.cm.Spectral)\n",
    "ax.set_title(\"Manifold Original do Swiss Roll\")\n",
    "ax.view_init(elev=10., azim=-80)\n",
    "plt.show()"
   ]
  },
  {
   "cell_type": "markdown",
   "id": "9ac8b2c2",
   "metadata": {},
   "source": [
    "## Fundamentos Teóricos do UMAP\n",
    "\n",
    "O UMAP assume que os dados são amostrados de uma variedade Riemanniana (manifold) e que as distâncias entre os pontos na variedade podem ser aproximadas localmente. A partir dessa premissa, o algoritmo opera em duas fases principais: a construção de uma representação topológica dos dados em alta dimensão e a otimização de um layout de baixa dimensão que preserve essa topologia.\n",
    "\n",
    "### Construção do Grafo de Alta Dimensão\n",
    "\n",
    "A primeira etapa do UMAP consiste em construir um grafo ponderado que represente a estrutura topológica dos dados originais. Para cada ponto de dados $x_i$, o algoritmo identifica seus $k$ vizinhos mais próximos. A ponderação das arestas deste grafo não é meramente a distância, mas sim uma probabilidade de conexão baseada em uma métrica localmente adaptativa.\n",
    "\n",
    "Para cada ponto $x_i$, uma métrica local é estabelecida ao encontrar um valor $\\sigma_i$ tal que a soma das probabilidades de seus vizinhos some um valor constante (geralmente $\\log_2(k)$). A probabilidade condicional $p_{j|i}$ de que $x_j$ esteja conectado a $x_i$ é dada por:\n",
    "\n",
    "$$p_{j|i} = \\exp\\left(-\\frac{d(x_i, x_j) - \\rho_i}{\\sigma_i}\\right)$$\n",
    "\n",
    "Onde $\\rho_i$ é a distância do ponto $x_i$ ao seu vizinho mais próximo. Esta normalização garante que a conectividade seja definida em termos de uma noção local de distância, tornando o algoritmo robusto a variações na densidade dos dados.\n",
    "\n",
    "As probabilidades condicionais são então simetrizadas para formar a afinidade final $p_{ij}$ no espaço de alta dimensão, através de uma união fuzzy:\n",
    "\n",
    "$$p_{ij} = p_{j|i} + p_{i|j} - p_{j|i}p_{i|j}$$\n",
    "\n",
    "Isso resulta em uma matriz de adjacência ponderada que representa um \"conjunto simplicial fuzzy\" (fuzzy simplicial set), capturando a estrutura topológica do manifold subjacente aos dados.\n",
    "\n",
    "### Otimização do Embedding de Baixa Dimensão\n",
    "\n",
    "A segunda fase do UMAP é encontrar uma representação de baixa dimensão dos dados (seja $y_i$ a representação de $x_i$) que melhor se aproxime da estrutura topológica capturada pelo grafo de alta dimensão. Para isso, uma estrutura similar de afinidades, $q_{ij}$, é definida no espaço de baixa dimensão. A função de afinidade utilizada é tipicamente da família ou similar as t-distribuições de Student, o que ajuda a evitar a aglomeração de pontos no centro do embedding e a manter uma separação mais clara entre clusters.\n",
    "\n",
    "A afinidade $q_{ij}$ entre os pontos $y_i$ e $y_j$ é dada por:\n",
    "\n",
    "$$q_{ij} = \\left(1 + a(y_i - y_j)^{2b}\\right)^{-1}$$\n",
    "\n",
    "Os parâmetros $a$ e $b$ são ajustados para aproximar a forma desejada da distribuição de embedding, geralmente com base nos hiperparâmetros `min_dist` e `spread` do UMAP.\n",
    "\n",
    "O objetivo da otimização é minimizar a divergência entre as duas distribuições de afinidade, $p_{ij}$ e $q_{ij}$. A função de custo utilizada é a Cross-Entropy (Entropia Cruzada):\n",
    "\n",
    "$$\\text{C(X, Y)} = \\sum_{i \\neq j} \\left[ p_{ij} \\log\\left(\\frac{p_{ij}}{q_{ij}}\\right) + (1 - p_{ij}) \\log\\left(\\frac{1 - p_{ij}}{1 - q_{ij}}\\right) \\right]$$\n",
    "\n",
    "Esta otimização é realizada através de Stochastic Gradient Descent (SGD), onde arestas do grafo de alta dimensão atuam como forças atrativas e pares de pontos não conectados (amostrados negativamente) atuam como forças repulsivas."
   ]
  },
  {
   "cell_type": "markdown",
   "id": "f5f797c0",
   "metadata": {},
   "source": [
    "### Implementação Didática do UMAP\n",
    "\n",
    "A seguir, apresentamos uma classe `UMAP` que implementa as ideias centrais discutidas. Esta implementação é simplificada para fins educacionais e não inclui todas as otimizações de performance (como a busca por vizinhos aproximados ou a amostragem negativa eficiente) encontradas na biblioteca `umap-learn`. O foco é demonstrar o fluxo do algoritmo."
   ]
  },
  {
   "cell_type": "code",
   "execution_count": null,
   "id": "24a63f02",
   "metadata": {},
   "outputs": [],
   "source": [
    "n = X.shape[0]\n",
    "knn = NearestNeighbors(n_neighbors=3).fit(X)\n",
    "dists, inds = knn.kneighbors(X)\n",
    "\n",
    "rho = dists[:, 1]\n",
    "sigma = np.zeros(n)\n",
    "\n",
    "rows = np.repeat(np.arange(n), 3)\n",
    "cols = inds.flatten()\n",
    "\n",
    "dist = np.linalg.norm(X[rows] - X[cols], axis=1)\n",
    "dist = np.maximum(0, dist - rho[rows])\n",
    "p = np.exp(-dist / (sigma[rows] + 1e-8))\n",
    "\n",
    "p_matrix = np.zeros((n, n))\n",
    "p_matrix[rows, cols] = p\n",
    "\n",
    "p_matrix.shape"
   ]
  },
  {
   "cell_type": "code",
   "execution_count": null,
   "id": "bb974a8a",
   "metadata": {},
   "outputs": [],
   "source": [
    "class UMAP:\n",
    "    def __init__(self, n_neighbors=15, n_components=2, n_epochs=200, lr=0.5, random_state=None):\n",
    "        self.n_neighbors = n_neighbors\n",
    "        self.n_components = n_components\n",
    "        self.n_epochs = n_epochs\n",
    "        self.lr = lr\n",
    "        self.random_state = np.random.RandomState(random_state)\n",
    "        self.a, self.b = 1.929, 0.7915  # parâmetros da função de afinidade do UMAP\n",
    "\n",
    "    def _find_sigma(self, distances, rho):\n",
    "        \"\"\"Busca binária para encontrar sigma.\"\"\"\n",
    "        target = np.log2(self.n_neighbors)\n",
    "        low, high = 1e-3, 10.0\n",
    "        for _ in range(30):\n",
    "            mid = (low + high) / 2\n",
    "            psum = np.sum(np.exp(-(np.maximum(0, distances - rho)) / mid))\n",
    "            if abs(psum - target) < 1e-5:\n",
    "                return mid\n",
    "            if psum > target:\n",
    "                high = mid\n",
    "            else:\n",
    "                low = mid\n",
    "        return mid\n",
    "\n",
    "    def _build_neighbor_graph(self, X):\n",
    "        \"\"\"Etapa 1: constrói o grafo de vizinhança baseado em distâncias.\"\"\"\n",
    "        n = X.shape[0]\n",
    "        \n",
    "        # Encontra os k vizinhos mais próximos de cada ponto\n",
    "        knn = NearestNeighbors(n_neighbors=self.n_neighbors).fit(X)\n",
    "        dists, inds = knn.kneighbors(X)\n",
    "\n",
    "        # Calcular rho e sigma\n",
    "        # rho_i: distância mínima não nula (define o raio local de cada ponto)\n",
    "        # sigma_i: largura da distribuição local (ajustada por busca binária)\n",
    "        rho = dists[:, 1]\n",
    "        sigma = np.zeros(n)\n",
    "        for i in range(n):\n",
    "            sigma[i] = self._find_sigma(dists[i, 1:], rho[i])\n",
    "\n",
    "        # Cria pares (i, j) para todas as conexões entre ponto i e seus vizinhos j\n",
    "        rows = np.repeat(np.arange(n), self.n_neighbors)\n",
    "        cols = inds.flatten()\n",
    "\n",
    "        # Calcula distâncias entre cada ponto e seus vizinhos correspondentes\n",
    "        dist = np.linalg.norm(X[rows] - X[cols], axis=1)\n",
    "\n",
    "        # Subtrai o raio local rho_i e zera valores negativos\n",
    "        dist = np.maximum(0, dist - rho[rows])\n",
    "\n",
    "        # Converte distâncias em probabilidades (função de afinidade exponencial)\n",
    "        p = np.exp(-dist / (sigma[rows] + 1e-8))\n",
    "\n",
    "        # União fuzzy (p_ij + p_ji - p_ij*p_ji)\n",
    "        p_matrix = np.zeros((n, n))\n",
    "        p_matrix[rows, cols] = p\n",
    "        p = p_matrix + p_matrix.T - p_matrix * p_matrix.T\n",
    "\n",
    "        # Extrai apenas pares conectados e normaliza os pesos finais\n",
    "        rows, cols = np.where(p > 0)\n",
    "        p = p[rows, cols]\n",
    "        p /= (p.max() + 1e-8)\n",
    "        return rows, cols, p\n",
    "\n",
    "    def _optimize_embedding(self, rows, cols, weights, Y):\n",
    "        \"\"\"Etapa 2: otimiza as posições no espaço reduzido.\"\"\"\n",
    "        eps = 1e-8\n",
    "        for _ in range(self.n_epochs):\n",
    "            # Atração entre vizinhos reais\n",
    "            i = self.random_state.randint(0, len(weights), len(Y))\n",
    "            j = cols[i]\n",
    "            diff = Y[rows[i]] - Y[j]\n",
    "            dist2 = np.sum(diff**2, axis=1)\n",
    "            grad = (2 * self.a * self.b * (dist2 + eps)**(self.b - 1) /\n",
    "                    (1 + self.a * (dist2 + eps)**self.b))[:, None] * diff\n",
    "            Y[rows[i]] -= self.lr * grad\n",
    "            Y[j] += self.lr * grad\n",
    "\n",
    "            # Repulsão entre pares aleatórios\n",
    "            neg_i = self.random_state.randint(0, len(Y), len(Y))\n",
    "            neg_j = self.random_state.randint(0, len(Y), len(Y))\n",
    "            diff = Y[neg_i] - Y[neg_j]\n",
    "            dist2 = np.sum(diff**2, axis=1)\n",
    "            grad = (-self.b / (1 + self.a * (dist2 + eps)**self.b))[:, None] * diff\n",
    "            Y[neg_i] -= self.lr * grad\n",
    "\n",
    "        return Y\n",
    "\n",
    "    def fit_transform(self, X):\n",
    "        \"\"\"Executa o UMAP simplificado.\"\"\"\n",
    "        rows, cols, weights = self._build_neighbor_graph(X)\n",
    "        Y = self.random_state.normal(scale=0.01, size=(X.shape[0], self.n_components))\n",
    "        return self._optimize_embedding(rows, cols, weights, Y)"
   ]
  },
  {
   "cell_type": "markdown",
   "id": "daae13e1",
   "metadata": {},
   "source": [
    "### Executando a Implementação Simplificada\n",
    "\n",
    "Agora, vamos instanciar nossa classe `SimpleUMAP` e aplicá-la ao dataset Swiss Roll."
   ]
  },
  {
   "cell_type": "code",
   "execution_count": null,
   "id": "4c5f2854",
   "metadata": {},
   "outputs": [],
   "source": [
    "# Instanciar e rodar o UMAP\n",
    "simple_umap = UMAP(n_neighbors=30, n_components=2, n_epochs=500, random_state=42)\n",
    "embedding = simple_umap.fit_transform(X)"
   ]
  },
  {
   "cell_type": "markdown",
   "id": "bfdf3423",
   "metadata": {},
   "source": [
    "### Visualização do Resultado\n",
    "\n",
    "Finalmente, plotamos o embedding bidimensional resultante. Se o algoritmo funcionou corretamente, devemos ver o \"rolo\" suíço \"desenrolado\", com as cores progredindo suavemente de um lado para o outro, indicando que tanto a estrutura local de vizinhança quanto a estrutura global do manifold foram preservadas."
   ]
  },
  {
   "cell_type": "code",
   "execution_count": null,
   "id": "78389525",
   "metadata": {},
   "outputs": [],
   "source": [
    "# Plotar o embedding 2D\n",
    "plt.figure(figsize=(10, 8))\n",
    "plt.scatter(embedding[:, 0], embedding[:, 1], c=color, cmap=plt.cm.Spectral, s=50)\n",
    "plt.title(\"Embedding 2D do Swiss Roll com SimpleUMAP\")\n",
    "plt.xlabel(\"Componente UMAP 1\")\n",
    "plt.ylabel(\"Componente UMAP 2\")\n",
    "plt.show()"
   ]
  },
  {
   "cell_type": "markdown",
   "id": "7dc657bc",
   "metadata": {},
   "source": [
    "## Exercícios"
   ]
  },
  {
   "cell_type": "markdown",
   "id": "a62e103d",
   "metadata": {},
   "source": [
    "### Exercício 1\n",
    "\n",
    "Treine diferentes UMAPs com diferentes valores de pontos vizinhos, para o dataset sintético e plote cada um deles."
   ]
  },
  {
   "cell_type": "markdown",
   "id": "f91a3dfb",
   "metadata": {},
   "source": [
    "### Exercício 2\n",
    "\n",
    "Visualize os dados do dataset MNIST utilizando UMAP."
   ]
  }
 ],
 "metadata": {
  "kernelspec": {
   "display_name": "base",
   "language": "python",
   "name": "python3"
  },
  "language_info": {
   "codemirror_mode": {
    "name": "ipython",
    "version": 3
   },
   "file_extension": ".py",
   "mimetype": "text/x-python",
   "name": "python",
   "nbconvert_exporter": "python",
   "pygments_lexer": "ipython3",
   "version": "3.10.9"
  }
 },
 "nbformat": 4,
 "nbformat_minor": 5
}
